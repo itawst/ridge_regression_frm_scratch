{
 "cells": [
  {
   "cell_type": "markdown",
   "id": "c1622e55",
   "metadata": {},
   "source": [
    "## Ridge regression from scratch"
   ]
  },
  {
   "cell_type": "code",
   "execution_count": 103,
   "id": "4ea085a0",
   "metadata": {},
   "outputs": [],
   "source": [
    "# importing the libraries\n",
    "from sklearn.datasets import make_regression\n",
    "import matplotlib.pyplot as plt\n",
    "import numpy as np\n",
    "from sklearn.linear_model import LinearRegression\n",
    "from sklearn.model_selection import train_test_split\n",
    "from sklearn.metrics import r2_score, mean_squared_error\n",
    "from sklearn.linear_model import Ridge"
   ]
  },
  {
   "cell_type": "code",
   "execution_count": 104,
   "id": "b29ccd3b",
   "metadata": {},
   "outputs": [],
   "source": [
    "# creating a toy dataset\n",
    "x, y = make_regression(n_samples=100, n_features=1, n_targets=1, n_informative=1, noise=30, random_state=33)"
   ]
  },
  {
   "cell_type": "code",
   "execution_count": 105,
   "id": "5b81fb05",
   "metadata": {},
   "outputs": [
    {
     "data": {
      "text/plain": [
       "<matplotlib.collections.PathCollection at 0x21e727f2070>"
      ]
     },
     "execution_count": 105,
     "metadata": {},
     "output_type": "execute_result"
    },
    {
     "data": {
      "image/png": "[encoded data removed]",
      "text/plain": [
       "<Figure size 432x288 with 1 Axes>"
      ]
     },
     "metadata": {
      "needs_background": "light"
     },
     "output_type": "display_data"
    }
   ],
   "source": [
    "plt.scatter(x,y, color='red')"
   ]
  },
  {
   "cell_type": "code",
   "execution_count": 106,
   "id": "31d8fffe",
   "metadata": {},
   "outputs": [],
   "source": [
    "xtrain, xtest, ytrain, ytest = train_test_split(x, y, test_size=0.2, random_state=33)"
   ]
  },
  {
   "cell_type": "markdown",
   "id": "d5038020",
   "metadata": {},
   "source": [
    "## Implementin Ridge regression from sklearn"
   ]
  },
  {
   "cell_type": "code",
   "execution_count": 107,
   "id": "7a4db6af",
   "metadata": {},
   "outputs": [
    {
     "data": {
      "text/plain": [
       "Ridge(alpha=0.2)"
      ]
     },
     "execution_count": 107,
     "metadata": {},
     "output_type": "execute_result"
    }
   ],
   "source": [
    "rg = Ridge(alpha=0)\n",
    "rg1 = Ridge(alpha=1)\n",
    "rg2 = Ridge(alpha=10)\n",
    "rg3 = Ridge(alpha=.2)\n",
    "\n",
    "rg.fit(xtrain, ytrain)\n",
    "rg1.fit(xtrain, ytrain)\n",
    "rg2.fit(xtrain, ytrain)\n",
    "rg3.fit(xtrain, ytrain)\n"
   ]
  },
  {
   "cell_type": "code",
   "execution_count": 108,
   "id": "5596c315",
   "metadata": {},
   "outputs": [
    {
     "data": {
      "text/plain": [
       "<matplotlib.legend.Legend at 0x21e727e41c0>"
      ]
     },
     "execution_count": 108,
     "metadata": {},
     "output_type": "execute_result"
    },
    {
     "data": {
      "image/png": "[encoded data removed]",
      "text/plain": [
       "<Figure size 432x288 with 1 Axes>"
      ]
     },
     "metadata": {
      "needs_background": "light"
     },
     "output_type": "display_data"
    }
   ],
   "source": [
    "plt.scatter(x, y, color='yellow')\n",
    "plt.plot(x, rg.predict(x), color='red', label='alpha=0')\n",
    "plt.plot(x, rg1.predict(x), color='green', label='alpha=1')\n",
    "plt.plot(x, rg2.predict(x), color='orange', label='alpha=10')\n",
    "plt.plot(x, rg2.predict(x), color='blue', label='alpha=0.2')\n",
    "plt.legend()"
   ]
  },
  {
   "cell_type": "markdown",
   "id": "65b96d54",
   "metadata": {},
   "source": [
    "## Implementing Ridge regression from scratch"
   ]
  },
  {
   "cell_type": "code",
   "execution_count": 109,
   "id": "be739691",
   "metadata": {},
   "outputs": [],
   "source": [
    "# creating a class for ridge regression\n",
    "\n",
    "class myridge:\n",
    "    def __init__(self, alpha=0.1):\n",
    "        self.alpha = alpha\n",
    "        self.m = None\n",
    "        self.b = None\n",
    "    def fit(self, xtrain, ytrain):\n",
    "        num = 0\n",
    "        den = 0\n",
    "        for i in range(xtrain.shape[0]):\n",
    "            num = num + (xtrain[i] - xtrain.mean())*(ytrain[i] - ytrain.mean())\n",
    "            den = den + (xtrain[i] - xtrain.mean())*(xtrain[i] - xtrain.mean())\n",
    "        den = den + self.alpha         \n",
    "        self.m = num/den\n",
    "        self.b = ytrain.mean() - ((self.m)*(xtrain.mean()))\n",
    "        print(\" coeff = \", self.m)\n",
    "        print(\" intercept =\", self.b)\n",
    "    def predict(self, xtest):\n",
    "        return ((xtest*self.m)+self.b)\n",
    "        "
   ]
  },
  {
   "cell_type": "code",
   "execution_count": 110,
   "id": "95b95663",
   "metadata": {},
   "outputs": [],
   "source": [
    "# creating an instance of c\n",
    "reg = myridge(alpha=0)"
   ]
  },
  {
   "cell_type": "code",
   "execution_count": 111,
   "id": "59870f6d",
   "metadata": {},
   "outputs": [
    {
     "name": "stdout",
     "output_type": "stream",
     "text": [
      " coeff =  [53.46257096]\n",
      " intercept = [3.40029396]\n"
     ]
    }
   ],
   "source": [
    "reg.fit(xtrain, ytrain)"
   ]
  },
  {
   "cell_type": "code",
   "execution_count": 112,
   "id": "1dd0246a",
   "metadata": {},
   "outputs": [
    {
     "data": {
      "text/plain": [
       "<matplotlib.legend.Legend at 0x21e728a0b80>"
      ]
     },
     "execution_count": 112,
     "metadata": {},
     "output_type": "execute_result"
    },
    {
     "data": {
      "image/png": "[encoded data removed]",
      "text/plain": [
       "<Figure size 432x288 with 1 Axes>"
      ]
     },
     "metadata": {
      "needs_background": "light"
     },
     "output_type": "display_data"
    }
   ],
   "source": [
    "plt.scatter(x, y, color='yellow')\n",
    "plt.plot(x, rg.predict(x), color='red', label='alpha=0')\n",
    "plt.plot(x, rg1.predict(x), color='green', label='alpha=1')\n",
    "plt.plot(x, rg2.predict(x), color='orange', label='alpha=10')\n",
    "plt.plot(x, rg2.predict(x), color='blue', label='alpha=0.2')\n",
    "plt.plot(x, reg.predict(x), color='black', label='alpha=0.2')\n",
    "plt.legend()"
   ]
  },
  {
   "cell_type": "code",
   "execution_count": null,
   "id": "54d1ffac",
   "metadata": {},
   "outputs": [],
   "source": []
  },
  {
   "cell_type": "code",
   "execution_count": null,
   "id": "ecaec203",
   "metadata": {},
   "outputs": [],
   "source": []
  }
 ],
 "metadata": {
  "kernelspec": {
   "display_name": "Python 3 (ipykernel)",
   "language": "python",
   "name": "python3"
  },
  "language_info": {
   "codemirror_mode": {
    "name": "ipython",
    "version": 3
   },
   "file_extension": ".py",
   "mimetype": "text/x-python",
   "name": "python",
   "nbconvert_exporter": "python",
   "pygments_lexer": "ipython3",
   "version": "3.9.7"
  }
 },
 "nbformat": 4,
 "nbformat_minor": 5
}
